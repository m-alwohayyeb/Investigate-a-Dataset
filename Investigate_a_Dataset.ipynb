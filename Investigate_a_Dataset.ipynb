{
 "cells": [
  {
   "cell_type": "markdown",
   "metadata": {},
   "source": [
    "\n",
    "# Project #2 : Patients Appointments\n",
    "\n",
    "## Table of Contents\n",
    "<ul>\n",
    "<li><a href=\"#intro\">Introduction</a></li>\n",
    "<li><a href=\"#wrangling\">Data Wrangling</a></li>\n",
    "<li><a href=\"#eda\">Exploratory Data Analysis</a></li>\n",
    "<li><a href=\"#conclusions\">Conclusions</a></li>\n",
    "</ul>"
   ]
  },
  {
   "cell_type": "markdown",
   "metadata": {},
   "source": [
    "<a id='intro'></a>\n",
    "## Introduction\n",
    "\n",
    "In this data analysis project we will be exploring and analysing a data set of medical appointments and decide which factors make patients miss there scheduled appointment. We asked this question that will be answered at the end of the analysis :  \n",
    "- Which age group miss more appointments , and does the gender mater ?\n",
    "\n",
    "(Dataset full discreption found at [Kaggle](https://www.kaggle.com/joniarroba/noshowappointments))\n",
    "\n",
    "Python with `numpy` , `pandas` ,`seaborn` and `matplotlib` libraries will be used for analysing and drawing conclosions of the dataset."
   ]
  },
  {
   "cell_type": "code",
   "execution_count": 1,
   "metadata": {},
   "outputs": [],
   "source": [
    "#Importing the needed loibraries\n",
    "import pandas as pd\n",
    "import numpy as np\n",
    "import matplotlib.pyplot as plt\n",
    "import seaborn as sns\n",
    "sns.set_style('dark')\n",
    "%matplotlib inline"
   ]
  },
  {
   "cell_type": "markdown",
   "metadata": {},
   "source": [
    "<a id='wrangling'></a>\n",
    "## Data Wrangling\n",
    "\n",
    "\n",
    "### General Properties"
   ]
  },
  {
   "cell_type": "markdown",
   "metadata": {},
   "source": [
    "We will be using the patient id as an index column for the data "
   ]
  },
  {
   "cell_type": "code",
   "execution_count": 2,
   "metadata": {},
   "outputs": [
    {
     "data": {
      "text/html": [
       "<div>\n",
       "<style scoped>\n",
       "    .dataframe tbody tr th:only-of-type {\n",
       "        vertical-align: middle;\n",
       "    }\n",
       "\n",
       "    .dataframe tbody tr th {\n",
       "        vertical-align: top;\n",
       "    }\n",
       "\n",
       "    .dataframe thead th {\n",
       "        text-align: right;\n",
       "    }\n",
       "</style>\n",
       "<table border=\"1\" class=\"dataframe\">\n",
       "  <thead>\n",
       "    <tr style=\"text-align: right;\">\n",
       "      <th></th>\n",
       "      <th>AppointmentID</th>\n",
       "      <th>Gender</th>\n",
       "      <th>ScheduledDay</th>\n",
       "      <th>AppointmentDay</th>\n",
       "      <th>Age</th>\n",
       "      <th>Neighbourhood</th>\n",
       "      <th>Scholarship</th>\n",
       "      <th>Hipertension</th>\n",
       "      <th>Diabetes</th>\n",
       "      <th>Alcoholism</th>\n",
       "      <th>Handcap</th>\n",
       "      <th>SMS_received</th>\n",
       "      <th>No-show</th>\n",
       "    </tr>\n",
       "    <tr>\n",
       "      <th>PatientId</th>\n",
       "      <th></th>\n",
       "      <th></th>\n",
       "      <th></th>\n",
       "      <th></th>\n",
       "      <th></th>\n",
       "      <th></th>\n",
       "      <th></th>\n",
       "      <th></th>\n",
       "      <th></th>\n",
       "      <th></th>\n",
       "      <th></th>\n",
       "      <th></th>\n",
       "      <th></th>\n",
       "    </tr>\n",
       "  </thead>\n",
       "  <tbody>\n",
       "    <tr>\n",
       "      <th>2.987250e+13</th>\n",
       "      <td>5642903</td>\n",
       "      <td>F</td>\n",
       "      <td>2016-04-29T18:38:08Z</td>\n",
       "      <td>2016-04-29T00:00:00Z</td>\n",
       "      <td>62</td>\n",
       "      <td>JARDIM DA PENHA</td>\n",
       "      <td>0</td>\n",
       "      <td>1</td>\n",
       "      <td>0</td>\n",
       "      <td>0</td>\n",
       "      <td>0</td>\n",
       "      <td>0</td>\n",
       "      <td>No</td>\n",
       "    </tr>\n",
       "    <tr>\n",
       "      <th>5.589978e+14</th>\n",
       "      <td>5642503</td>\n",
       "      <td>M</td>\n",
       "      <td>2016-04-29T16:08:27Z</td>\n",
       "      <td>2016-04-29T00:00:00Z</td>\n",
       "      <td>56</td>\n",
       "      <td>JARDIM DA PENHA</td>\n",
       "      <td>0</td>\n",
       "      <td>0</td>\n",
       "      <td>0</td>\n",
       "      <td>0</td>\n",
       "      <td>0</td>\n",
       "      <td>0</td>\n",
       "      <td>No</td>\n",
       "    </tr>\n",
       "    <tr>\n",
       "      <th>4.262962e+12</th>\n",
       "      <td>5642549</td>\n",
       "      <td>F</td>\n",
       "      <td>2016-04-29T16:19:04Z</td>\n",
       "      <td>2016-04-29T00:00:00Z</td>\n",
       "      <td>62</td>\n",
       "      <td>MATA DA PRAIA</td>\n",
       "      <td>0</td>\n",
       "      <td>0</td>\n",
       "      <td>0</td>\n",
       "      <td>0</td>\n",
       "      <td>0</td>\n",
       "      <td>0</td>\n",
       "      <td>No</td>\n",
       "    </tr>\n",
       "    <tr>\n",
       "      <th>8.679512e+11</th>\n",
       "      <td>5642828</td>\n",
       "      <td>F</td>\n",
       "      <td>2016-04-29T17:29:31Z</td>\n",
       "      <td>2016-04-29T00:00:00Z</td>\n",
       "      <td>8</td>\n",
       "      <td>PONTAL DE CAMBURI</td>\n",
       "      <td>0</td>\n",
       "      <td>0</td>\n",
       "      <td>0</td>\n",
       "      <td>0</td>\n",
       "      <td>0</td>\n",
       "      <td>0</td>\n",
       "      <td>No</td>\n",
       "    </tr>\n",
       "    <tr>\n",
       "      <th>8.841186e+12</th>\n",
       "      <td>5642494</td>\n",
       "      <td>F</td>\n",
       "      <td>2016-04-29T16:07:23Z</td>\n",
       "      <td>2016-04-29T00:00:00Z</td>\n",
       "      <td>56</td>\n",
       "      <td>JARDIM DA PENHA</td>\n",
       "      <td>0</td>\n",
       "      <td>1</td>\n",
       "      <td>1</td>\n",
       "      <td>0</td>\n",
       "      <td>0</td>\n",
       "      <td>0</td>\n",
       "      <td>No</td>\n",
       "    </tr>\n",
       "  </tbody>\n",
       "</table>\n",
       "</div>"
      ],
      "text/plain": [
       "              AppointmentID Gender          ScheduledDay  \\\n",
       "PatientId                                                  \n",
       "2.987250e+13        5642903      F  2016-04-29T18:38:08Z   \n",
       "5.589978e+14        5642503      M  2016-04-29T16:08:27Z   \n",
       "4.262962e+12        5642549      F  2016-04-29T16:19:04Z   \n",
       "8.679512e+11        5642828      F  2016-04-29T17:29:31Z   \n",
       "8.841186e+12        5642494      F  2016-04-29T16:07:23Z   \n",
       "\n",
       "                    AppointmentDay  Age      Neighbourhood  Scholarship  \\\n",
       "PatientId                                                                 \n",
       "2.987250e+13  2016-04-29T00:00:00Z   62    JARDIM DA PENHA            0   \n",
       "5.589978e+14  2016-04-29T00:00:00Z   56    JARDIM DA PENHA            0   \n",
       "4.262962e+12  2016-04-29T00:00:00Z   62      MATA DA PRAIA            0   \n",
       "8.679512e+11  2016-04-29T00:00:00Z    8  PONTAL DE CAMBURI            0   \n",
       "8.841186e+12  2016-04-29T00:00:00Z   56    JARDIM DA PENHA            0   \n",
       "\n",
       "              Hipertension  Diabetes  Alcoholism  Handcap  SMS_received  \\\n",
       "PatientId                                                                 \n",
       "2.987250e+13             1         0           0        0             0   \n",
       "5.589978e+14             0         0           0        0             0   \n",
       "4.262962e+12             0         0           0        0             0   \n",
       "8.679512e+11             0         0           0        0             0   \n",
       "8.841186e+12             1         1           0        0             0   \n",
       "\n",
       "             No-show  \n",
       "PatientId             \n",
       "2.987250e+13      No  \n",
       "5.589978e+14      No  \n",
       "4.262962e+12      No  \n",
       "8.679512e+11      No  \n",
       "8.841186e+12      No  "
      ]
     },
     "execution_count": 2,
     "metadata": {},
     "output_type": "execute_result"
    }
   ],
   "source": [
    "# Loading the data\n",
    "df = pd.read_csv('noshowappointments.csv' , index_col='PatientId')     \n",
    "df.head()"
   ]
  },
  {
   "cell_type": "markdown",
   "metadata": {},
   "source": [
    "Now we will explore the properties of the dataset, and answering the following questions :\n",
    "- How much data do we have ?\n",
    "- Do colomns have the right data types for the values ? \n",
    "- Do we have any duplicated values ?\n",
    "- Lastly do we have any empty(null) values ?"
   ]
  },
  {
   "cell_type": "code",
   "execution_count": 3,
   "metadata": {},
   "outputs": [
    {
     "data": {
      "text/plain": [
       "(110527, 13)"
      ]
     },
     "execution_count": 3,
     "metadata": {},
     "output_type": "execute_result"
    }
   ],
   "source": [
    "df.shape"
   ]
  },
  {
   "cell_type": "markdown",
   "metadata": {},
   "source": [
    "From the above cell output, we can see that we have a 110527 entries."
   ]
  },
  {
   "cell_type": "code",
   "execution_count": 4,
   "metadata": {},
   "outputs": [
    {
     "data": {
      "text/html": [
       "<div>\n",
       "<style scoped>\n",
       "    .dataframe tbody tr th:only-of-type {\n",
       "        vertical-align: middle;\n",
       "    }\n",
       "\n",
       "    .dataframe tbody tr th {\n",
       "        vertical-align: top;\n",
       "    }\n",
       "\n",
       "    .dataframe thead th {\n",
       "        text-align: right;\n",
       "    }\n",
       "</style>\n",
       "<table border=\"1\" class=\"dataframe\">\n",
       "  <thead>\n",
       "    <tr style=\"text-align: right;\">\n",
       "      <th></th>\n",
       "      <th>AppointmentID</th>\n",
       "      <th>Age</th>\n",
       "      <th>Scholarship</th>\n",
       "      <th>Hipertension</th>\n",
       "      <th>Diabetes</th>\n",
       "      <th>Alcoholism</th>\n",
       "      <th>Handcap</th>\n",
       "      <th>SMS_received</th>\n",
       "    </tr>\n",
       "  </thead>\n",
       "  <tbody>\n",
       "    <tr>\n",
       "      <th>count</th>\n",
       "      <td>1.105270e+05</td>\n",
       "      <td>110527.000000</td>\n",
       "      <td>110527.000000</td>\n",
       "      <td>110527.000000</td>\n",
       "      <td>110527.000000</td>\n",
       "      <td>110527.000000</td>\n",
       "      <td>110527.000000</td>\n",
       "      <td>110527.000000</td>\n",
       "    </tr>\n",
       "    <tr>\n",
       "      <th>mean</th>\n",
       "      <td>5.675305e+06</td>\n",
       "      <td>37.088874</td>\n",
       "      <td>0.098266</td>\n",
       "      <td>0.197246</td>\n",
       "      <td>0.071865</td>\n",
       "      <td>0.030400</td>\n",
       "      <td>0.022248</td>\n",
       "      <td>0.321026</td>\n",
       "    </tr>\n",
       "    <tr>\n",
       "      <th>std</th>\n",
       "      <td>7.129575e+04</td>\n",
       "      <td>23.110205</td>\n",
       "      <td>0.297675</td>\n",
       "      <td>0.397921</td>\n",
       "      <td>0.258265</td>\n",
       "      <td>0.171686</td>\n",
       "      <td>0.161543</td>\n",
       "      <td>0.466873</td>\n",
       "    </tr>\n",
       "    <tr>\n",
       "      <th>min</th>\n",
       "      <td>5.030230e+06</td>\n",
       "      <td>-1.000000</td>\n",
       "      <td>0.000000</td>\n",
       "      <td>0.000000</td>\n",
       "      <td>0.000000</td>\n",
       "      <td>0.000000</td>\n",
       "      <td>0.000000</td>\n",
       "      <td>0.000000</td>\n",
       "    </tr>\n",
       "    <tr>\n",
       "      <th>25%</th>\n",
       "      <td>5.640286e+06</td>\n",
       "      <td>18.000000</td>\n",
       "      <td>0.000000</td>\n",
       "      <td>0.000000</td>\n",
       "      <td>0.000000</td>\n",
       "      <td>0.000000</td>\n",
       "      <td>0.000000</td>\n",
       "      <td>0.000000</td>\n",
       "    </tr>\n",
       "    <tr>\n",
       "      <th>50%</th>\n",
       "      <td>5.680573e+06</td>\n",
       "      <td>37.000000</td>\n",
       "      <td>0.000000</td>\n",
       "      <td>0.000000</td>\n",
       "      <td>0.000000</td>\n",
       "      <td>0.000000</td>\n",
       "      <td>0.000000</td>\n",
       "      <td>0.000000</td>\n",
       "    </tr>\n",
       "    <tr>\n",
       "      <th>75%</th>\n",
       "      <td>5.725524e+06</td>\n",
       "      <td>55.000000</td>\n",
       "      <td>0.000000</td>\n",
       "      <td>0.000000</td>\n",
       "      <td>0.000000</td>\n",
       "      <td>0.000000</td>\n",
       "      <td>0.000000</td>\n",
       "      <td>1.000000</td>\n",
       "    </tr>\n",
       "    <tr>\n",
       "      <th>max</th>\n",
       "      <td>5.790484e+06</td>\n",
       "      <td>115.000000</td>\n",
       "      <td>1.000000</td>\n",
       "      <td>1.000000</td>\n",
       "      <td>1.000000</td>\n",
       "      <td>1.000000</td>\n",
       "      <td>4.000000</td>\n",
       "      <td>1.000000</td>\n",
       "    </tr>\n",
       "  </tbody>\n",
       "</table>\n",
       "</div>"
      ],
      "text/plain": [
       "       AppointmentID            Age    Scholarship   Hipertension  \\\n",
       "count   1.105270e+05  110527.000000  110527.000000  110527.000000   \n",
       "mean    5.675305e+06      37.088874       0.098266       0.197246   \n",
       "std     7.129575e+04      23.110205       0.297675       0.397921   \n",
       "min     5.030230e+06      -1.000000       0.000000       0.000000   \n",
       "25%     5.640286e+06      18.000000       0.000000       0.000000   \n",
       "50%     5.680573e+06      37.000000       0.000000       0.000000   \n",
       "75%     5.725524e+06      55.000000       0.000000       0.000000   \n",
       "max     5.790484e+06     115.000000       1.000000       1.000000   \n",
       "\n",
       "            Diabetes     Alcoholism        Handcap   SMS_received  \n",
       "count  110527.000000  110527.000000  110527.000000  110527.000000  \n",
       "mean        0.071865       0.030400       0.022248       0.321026  \n",
       "std         0.258265       0.171686       0.161543       0.466873  \n",
       "min         0.000000       0.000000       0.000000       0.000000  \n",
       "25%         0.000000       0.000000       0.000000       0.000000  \n",
       "50%         0.000000       0.000000       0.000000       0.000000  \n",
       "75%         0.000000       0.000000       0.000000       1.000000  \n",
       "max         1.000000       1.000000       4.000000       1.000000  "
      ]
     },
     "execution_count": 4,
     "metadata": {},
     "output_type": "execute_result"
    }
   ],
   "source": [
    "df.describe()"
   ]
  },
  {
   "cell_type": "code",
   "execution_count": 5,
   "metadata": {},
   "outputs": [
    {
     "name": "stdout",
     "output_type": "stream",
     "text": [
      "<class 'pandas.core.frame.DataFrame'>\n",
      "Float64Index: 110527 entries, 29872499824296.0 to 377511518121127.0\n",
      "Data columns (total 13 columns):\n",
      " #   Column          Non-Null Count   Dtype \n",
      "---  ------          --------------   ----- \n",
      " 0   AppointmentID   110527 non-null  int64 \n",
      " 1   Gender          110527 non-null  object\n",
      " 2   ScheduledDay    110527 non-null  object\n",
      " 3   AppointmentDay  110527 non-null  object\n",
      " 4   Age             110527 non-null  int64 \n",
      " 5   Neighbourhood   110527 non-null  object\n",
      " 6   Scholarship     110527 non-null  int64 \n",
      " 7   Hipertension    110527 non-null  int64 \n",
      " 8   Diabetes        110527 non-null  int64 \n",
      " 9   Alcoholism      110527 non-null  int64 \n",
      " 10  Handcap         110527 non-null  int64 \n",
      " 11  SMS_received    110527 non-null  int64 \n",
      " 12  No-show         110527 non-null  object\n",
      "dtypes: int64(8), object(5)\n",
      "memory usage: 11.8+ MB\n"
     ]
    }
   ],
   "source": [
    "# Checking the variable type for each column.\n",
    "df.info()"
   ]
  },
  {
   "cell_type": "code",
   "execution_count": 6,
   "metadata": {},
   "outputs": [
    {
     "data": {
      "text/plain": [
       "Float64Index([ 29872499824296.0, 558997776694438.0,   4262962299951.0,\n",
       "                 867951213174.0,   8841186448183.0,  95985133231274.0,\n",
       "              733688164476661.0,   3449833394123.0,  56394729949972.0,\n",
       "               78124564369297.0,\n",
       "              ...\n",
       "                5574942418928.0,  72633149253362.0,  65423877893936.0,\n",
       "              996997666245785.0,  36355337746436.0,   2572134369293.0,\n",
       "                3596266328735.0,  15576631729893.0,  92134931435557.0,\n",
       "              377511518121127.0],\n",
       "             dtype='float64', name='PatientId', length=110527)"
      ]
     },
     "execution_count": 6,
     "metadata": {},
     "output_type": "execute_result"
    }
   ],
   "source": [
    "# Checking the variable type for index column.\n",
    "df.index"
   ]
  },
  {
   "cell_type": "markdown",
   "metadata": {},
   "source": [
    "From the output of the above two cells, we can see the data types for each column , and decide which to be edited ."
   ]
  },
  {
   "cell_type": "code",
   "execution_count": 7,
   "metadata": {},
   "outputs": [
    {
     "data": {
      "text/plain": [
       "0"
      ]
     },
     "execution_count": 7,
     "metadata": {},
     "output_type": "execute_result"
    }
   ],
   "source": [
    "# check if there are any duplicates.\n",
    "df.duplicated().sum()"
   ]
  },
  {
   "cell_type": "code",
   "execution_count": 8,
   "metadata": {},
   "outputs": [
    {
     "data": {
      "text/plain": [
       "AppointmentID     0\n",
       "Gender            0\n",
       "ScheduledDay      0\n",
       "AppointmentDay    0\n",
       "Age               0\n",
       "Neighbourhood     0\n",
       "Scholarship       0\n",
       "Hipertension      0\n",
       "Diabetes          0\n",
       "Alcoholism        0\n",
       "Handcap           0\n",
       "SMS_received      0\n",
       "No-show           0\n",
       "dtype: int64"
      ]
     },
     "execution_count": 8,
     "metadata": {},
     "output_type": "execute_result"
    }
   ],
   "source": [
    "# check if there are any null values.\n",
    "df.isnull().sum()"
   ]
  },
  {
   "cell_type": "markdown",
   "metadata": {},
   "source": [
    "From the output of the above two cell, we can see that there are no duplicated rows or null values in the dateset."
   ]
  },
  {
   "cell_type": "markdown",
   "metadata": {},
   "source": [
    "\n",
    "### Data Cleaning : refining data type and renameing columns  "
   ]
  },
  {
   "cell_type": "markdown",
   "metadata": {},
   "source": [
    "At this data cleaning phase we will refine the date so that we can use it easly without any errors. \n",
    "\n",
    "from the following cell output we can see that each word start with a Upper case letter, and there are no seperation betwen any two word colomn name. "
   ]
  },
  {
   "cell_type": "code",
   "execution_count": 9,
   "metadata": {},
   "outputs": [
    {
     "data": {
      "text/html": [
       "<div>\n",
       "<style scoped>\n",
       "    .dataframe tbody tr th:only-of-type {\n",
       "        vertical-align: middle;\n",
       "    }\n",
       "\n",
       "    .dataframe tbody tr th {\n",
       "        vertical-align: top;\n",
       "    }\n",
       "\n",
       "    .dataframe thead th {\n",
       "        text-align: right;\n",
       "    }\n",
       "</style>\n",
       "<table border=\"1\" class=\"dataframe\">\n",
       "  <thead>\n",
       "    <tr style=\"text-align: right;\">\n",
       "      <th></th>\n",
       "      <th>AppointmentID</th>\n",
       "      <th>Gender</th>\n",
       "      <th>ScheduledDay</th>\n",
       "      <th>AppointmentDay</th>\n",
       "      <th>Age</th>\n",
       "      <th>Neighbourhood</th>\n",
       "      <th>Scholarship</th>\n",
       "      <th>Hipertension</th>\n",
       "      <th>Diabetes</th>\n",
       "      <th>Alcoholism</th>\n",
       "      <th>Handcap</th>\n",
       "      <th>SMS_received</th>\n",
       "      <th>No-show</th>\n",
       "    </tr>\n",
       "    <tr>\n",
       "      <th>PatientId</th>\n",
       "      <th></th>\n",
       "      <th></th>\n",
       "      <th></th>\n",
       "      <th></th>\n",
       "      <th></th>\n",
       "      <th></th>\n",
       "      <th></th>\n",
       "      <th></th>\n",
       "      <th></th>\n",
       "      <th></th>\n",
       "      <th></th>\n",
       "      <th></th>\n",
       "      <th></th>\n",
       "    </tr>\n",
       "  </thead>\n",
       "  <tbody>\n",
       "    <tr>\n",
       "      <th>2.987250e+13</th>\n",
       "      <td>5642903</td>\n",
       "      <td>F</td>\n",
       "      <td>2016-04-29T18:38:08Z</td>\n",
       "      <td>2016-04-29T00:00:00Z</td>\n",
       "      <td>62</td>\n",
       "      <td>JARDIM DA PENHA</td>\n",
       "      <td>0</td>\n",
       "      <td>1</td>\n",
       "      <td>0</td>\n",
       "      <td>0</td>\n",
       "      <td>0</td>\n",
       "      <td>0</td>\n",
       "      <td>No</td>\n",
       "    </tr>\n",
       "  </tbody>\n",
       "</table>\n",
       "</div>"
      ],
      "text/plain": [
       "              AppointmentID Gender          ScheduledDay  \\\n",
       "PatientId                                                  \n",
       "2.987250e+13        5642903      F  2016-04-29T18:38:08Z   \n",
       "\n",
       "                    AppointmentDay  Age    Neighbourhood  Scholarship  \\\n",
       "PatientId                                                               \n",
       "2.987250e+13  2016-04-29T00:00:00Z   62  JARDIM DA PENHA            0   \n",
       "\n",
       "              Hipertension  Diabetes  Alcoholism  Handcap  SMS_received  \\\n",
       "PatientId                                                                 \n",
       "2.987250e+13             1         0           0        0             0   \n",
       "\n",
       "             No-show  \n",
       "PatientId             \n",
       "2.987250e+13      No  "
      ]
     },
     "execution_count": 9,
     "metadata": {},
     "output_type": "execute_result"
    }
   ],
   "source": [
    "df.head(1)"
   ]
  },
  {
   "cell_type": "markdown",
   "metadata": {},
   "source": [
    "First, We will change each column name from Upper case to lower case latters."
   ]
  },
  {
   "cell_type": "code",
   "execution_count": 10,
   "metadata": {},
   "outputs": [
    {
     "data": {
      "text/html": [
       "<div>\n",
       "<style scoped>\n",
       "    .dataframe tbody tr th:only-of-type {\n",
       "        vertical-align: middle;\n",
       "    }\n",
       "\n",
       "    .dataframe tbody tr th {\n",
       "        vertical-align: top;\n",
       "    }\n",
       "\n",
       "    .dataframe thead th {\n",
       "        text-align: right;\n",
       "    }\n",
       "</style>\n",
       "<table border=\"1\" class=\"dataframe\">\n",
       "  <thead>\n",
       "    <tr style=\"text-align: right;\">\n",
       "      <th></th>\n",
       "      <th>appointmentid</th>\n",
       "      <th>gender</th>\n",
       "      <th>scheduledday</th>\n",
       "      <th>appointmentday</th>\n",
       "      <th>age</th>\n",
       "      <th>neighbourhood</th>\n",
       "      <th>scholarship</th>\n",
       "      <th>hipertension</th>\n",
       "      <th>diabetes</th>\n",
       "      <th>alcoholism</th>\n",
       "      <th>handcap</th>\n",
       "      <th>sms_received</th>\n",
       "      <th>no-show</th>\n",
       "    </tr>\n",
       "    <tr>\n",
       "      <th>PatientId</th>\n",
       "      <th></th>\n",
       "      <th></th>\n",
       "      <th></th>\n",
       "      <th></th>\n",
       "      <th></th>\n",
       "      <th></th>\n",
       "      <th></th>\n",
       "      <th></th>\n",
       "      <th></th>\n",
       "      <th></th>\n",
       "      <th></th>\n",
       "      <th></th>\n",
       "      <th></th>\n",
       "    </tr>\n",
       "  </thead>\n",
       "  <tbody>\n",
       "    <tr>\n",
       "      <th>2.987250e+13</th>\n",
       "      <td>5642903</td>\n",
       "      <td>F</td>\n",
       "      <td>2016-04-29T18:38:08Z</td>\n",
       "      <td>2016-04-29T00:00:00Z</td>\n",
       "      <td>62</td>\n",
       "      <td>JARDIM DA PENHA</td>\n",
       "      <td>0</td>\n",
       "      <td>1</td>\n",
       "      <td>0</td>\n",
       "      <td>0</td>\n",
       "      <td>0</td>\n",
       "      <td>0</td>\n",
       "      <td>No</td>\n",
       "    </tr>\n",
       "  </tbody>\n",
       "</table>\n",
       "</div>"
      ],
      "text/plain": [
       "              appointmentid gender          scheduledday  \\\n",
       "PatientId                                                  \n",
       "2.987250e+13        5642903      F  2016-04-29T18:38:08Z   \n",
       "\n",
       "                    appointmentday  age    neighbourhood  scholarship  \\\n",
       "PatientId                                                               \n",
       "2.987250e+13  2016-04-29T00:00:00Z   62  JARDIM DA PENHA            0   \n",
       "\n",
       "              hipertension  diabetes  alcoholism  handcap  sms_received  \\\n",
       "PatientId                                                                 \n",
       "2.987250e+13             1         0           0        0             0   \n",
       "\n",
       "             no-show  \n",
       "PatientId             \n",
       "2.987250e+13      No  "
      ]
     },
     "execution_count": 10,
     "metadata": {},
     "output_type": "execute_result"
    }
   ],
   "source": [
    "# Rename columns and make it lower case.\n",
    "df.rename(columns=lambda x: x.strip().lower(), inplace=True)\n",
    "df.head(1)"
   ]
  },
  {
   "cell_type": "markdown",
   "metadata": {},
   "source": [
    "Secondly , We will seperate any two word column names with '_' , and change the '-' to '_' in the `no-show` column."
   ]
  },
  {
   "cell_type": "code",
   "execution_count": 11,
   "metadata": {},
   "outputs": [
    {
     "data": {
      "text/html": [
       "<div>\n",
       "<style scoped>\n",
       "    .dataframe tbody tr th:only-of-type {\n",
       "        vertical-align: middle;\n",
       "    }\n",
       "\n",
       "    .dataframe tbody tr th {\n",
       "        vertical-align: top;\n",
       "    }\n",
       "\n",
       "    .dataframe thead th {\n",
       "        text-align: right;\n",
       "    }\n",
       "</style>\n",
       "<table border=\"1\" class=\"dataframe\">\n",
       "  <thead>\n",
       "    <tr style=\"text-align: right;\">\n",
       "      <th></th>\n",
       "      <th>appointment_id</th>\n",
       "      <th>gender</th>\n",
       "      <th>scheduled_day</th>\n",
       "      <th>appointment_day</th>\n",
       "      <th>age</th>\n",
       "      <th>neighbourhood</th>\n",
       "      <th>scholarship</th>\n",
       "      <th>hipertension</th>\n",
       "      <th>diabetes</th>\n",
       "      <th>alcoholism</th>\n",
       "      <th>handcap</th>\n",
       "      <th>sms_received</th>\n",
       "      <th>no_show</th>\n",
       "    </tr>\n",
       "    <tr>\n",
       "      <th>PatientId</th>\n",
       "      <th></th>\n",
       "      <th></th>\n",
       "      <th></th>\n",
       "      <th></th>\n",
       "      <th></th>\n",
       "      <th></th>\n",
       "      <th></th>\n",
       "      <th></th>\n",
       "      <th></th>\n",
       "      <th></th>\n",
       "      <th></th>\n",
       "      <th></th>\n",
       "      <th></th>\n",
       "    </tr>\n",
       "  </thead>\n",
       "  <tbody>\n",
       "    <tr>\n",
       "      <th>2.987250e+13</th>\n",
       "      <td>5642903</td>\n",
       "      <td>F</td>\n",
       "      <td>2016-04-29T18:38:08Z</td>\n",
       "      <td>2016-04-29T00:00:00Z</td>\n",
       "      <td>62</td>\n",
       "      <td>JARDIM DA PENHA</td>\n",
       "      <td>0</td>\n",
       "      <td>1</td>\n",
       "      <td>0</td>\n",
       "      <td>0</td>\n",
       "      <td>0</td>\n",
       "      <td>0</td>\n",
       "      <td>No</td>\n",
       "    </tr>\n",
       "  </tbody>\n",
       "</table>\n",
       "</div>"
      ],
      "text/plain": [
       "              appointment_id gender         scheduled_day  \\\n",
       "PatientId                                                   \n",
       "2.987250e+13         5642903      F  2016-04-29T18:38:08Z   \n",
       "\n",
       "                   appointment_day  age    neighbourhood  scholarship  \\\n",
       "PatientId                                                               \n",
       "2.987250e+13  2016-04-29T00:00:00Z   62  JARDIM DA PENHA            0   \n",
       "\n",
       "              hipertension  diabetes  alcoholism  handcap  sms_received  \\\n",
       "PatientId                                                                 \n",
       "2.987250e+13             1         0           0        0             0   \n",
       "\n",
       "             no_show  \n",
       "PatientId             \n",
       "2.987250e+13      No  "
      ]
     },
     "execution_count": 11,
     "metadata": {},
     "output_type": "execute_result"
    }
   ],
   "source": [
    "# rename some columns so that each word is splited with '_'.\n",
    "df.rename( columns={'appointmentid':'appointment_id','scheduledday':'scheduled_day','appointmentday':'appointment_day', 'no-show' : 'no_show'}, inplace=True)\n",
    "df.head(1)"
   ]
  },
  {
   "cell_type": "markdown",
   "metadata": {},
   "source": [
    "The index column data type is `float` , which is not a correct data type for an index , so we will change data type to `int`. Also we will rename the column from `PatientId` to `patient_id`, so that the name is in lower case and each word is seperated woth `_`."
   ]
  },
  {
   "cell_type": "code",
   "execution_count": 12,
   "metadata": {},
   "outputs": [
    {
     "data": {
      "text/html": [
       "<div>\n",
       "<style scoped>\n",
       "    .dataframe tbody tr th:only-of-type {\n",
       "        vertical-align: middle;\n",
       "    }\n",
       "\n",
       "    .dataframe tbody tr th {\n",
       "        vertical-align: top;\n",
       "    }\n",
       "\n",
       "    .dataframe thead th {\n",
       "        text-align: right;\n",
       "    }\n",
       "</style>\n",
       "<table border=\"1\" class=\"dataframe\">\n",
       "  <thead>\n",
       "    <tr style=\"text-align: right;\">\n",
       "      <th></th>\n",
       "      <th>appointment_id</th>\n",
       "      <th>gender</th>\n",
       "      <th>scheduled_day</th>\n",
       "      <th>appointment_day</th>\n",
       "      <th>age</th>\n",
       "      <th>neighbourhood</th>\n",
       "      <th>scholarship</th>\n",
       "      <th>hipertension</th>\n",
       "      <th>diabetes</th>\n",
       "      <th>alcoholism</th>\n",
       "      <th>handcap</th>\n",
       "      <th>sms_received</th>\n",
       "      <th>no_show</th>\n",
       "    </tr>\n",
       "    <tr>\n",
       "      <th>patient_id</th>\n",
       "      <th></th>\n",
       "      <th></th>\n",
       "      <th></th>\n",
       "      <th></th>\n",
       "      <th></th>\n",
       "      <th></th>\n",
       "      <th></th>\n",
       "      <th></th>\n",
       "      <th></th>\n",
       "      <th></th>\n",
       "      <th></th>\n",
       "      <th></th>\n",
       "      <th></th>\n",
       "    </tr>\n",
       "  </thead>\n",
       "  <tbody>\n",
       "    <tr>\n",
       "      <th>29872499824296</th>\n",
       "      <td>5642903</td>\n",
       "      <td>F</td>\n",
       "      <td>2016-04-29T18:38:08Z</td>\n",
       "      <td>2016-04-29T00:00:00Z</td>\n",
       "      <td>62</td>\n",
       "      <td>JARDIM DA PENHA</td>\n",
       "      <td>0</td>\n",
       "      <td>1</td>\n",
       "      <td>0</td>\n",
       "      <td>0</td>\n",
       "      <td>0</td>\n",
       "      <td>0</td>\n",
       "      <td>No</td>\n",
       "    </tr>\n",
       "  </tbody>\n",
       "</table>\n",
       "</div>"
      ],
      "text/plain": [
       "                appointment_id gender         scheduled_day  \\\n",
       "patient_id                                                    \n",
       "29872499824296         5642903      F  2016-04-29T18:38:08Z   \n",
       "\n",
       "                     appointment_day  age    neighbourhood  scholarship  \\\n",
       "patient_id                                                                \n",
       "29872499824296  2016-04-29T00:00:00Z   62  JARDIM DA PENHA            0   \n",
       "\n",
       "                hipertension  diabetes  alcoholism  handcap  sms_received  \\\n",
       "patient_id                                                                  \n",
       "29872499824296             1         0           0        0             0   \n",
       "\n",
       "               no_show  \n",
       "patient_id              \n",
       "29872499824296      No  "
      ]
     },
     "execution_count": 12,
     "metadata": {},
     "output_type": "execute_result"
    }
   ],
   "source": [
    "# rename the indesx column , and change its variable type from float to int.\n",
    "df.index = df.index.astype(int)\n",
    "df.index.names=['patient_id']\n",
    "df.head(1)"
   ]
  },
  {
   "cell_type": "markdown",
   "metadata": {},
   "source": [
    "By exploring the data types we saw that `scheduled_day` and `appointment_day` columns are storing date and time as `string` , so we need to convert them into `datatime`."
   ]
  },
  {
   "cell_type": "code",
   "execution_count": 13,
   "metadata": {},
   "outputs": [
    {
     "name": "stdout",
     "output_type": "stream",
     "text": [
      "<class 'pandas.core.frame.DataFrame'>\n",
      "Int64Index: 110527 entries, 29872499824296 to 377511518121127\n",
      "Data columns (total 13 columns):\n",
      " #   Column           Non-Null Count   Dtype              \n",
      "---  ------           --------------   -----              \n",
      " 0   appointment_id   110527 non-null  int64              \n",
      " 1   gender           110527 non-null  object             \n",
      " 2   scheduled_day    110527 non-null  datetime64[ns, UTC]\n",
      " 3   appointment_day  110527 non-null  datetime64[ns, UTC]\n",
      " 4   age              110527 non-null  int64              \n",
      " 5   neighbourhood    110527 non-null  object             \n",
      " 6   scholarship      110527 non-null  int64              \n",
      " 7   hipertension     110527 non-null  int64              \n",
      " 8   diabetes         110527 non-null  int64              \n",
      " 9   alcoholism       110527 non-null  int64              \n",
      " 10  handcap          110527 non-null  int64              \n",
      " 11  sms_received     110527 non-null  int64              \n",
      " 12  no_show          110527 non-null  object             \n",
      "dtypes: datetime64[ns, UTC](2), int64(8), object(3)\n",
      "memory usage: 11.8+ MB\n"
     ]
    }
   ],
   "source": [
    "# change the type of date variables from string to datetime.\n",
    "df['scheduled_day'] = pd.to_datetime(df['scheduled_day'])\n",
    "df['appointment_day'] = pd.to_datetime(df['appointment_day'])\n",
    "df.info()"
   ]
  },
  {
   "cell_type": "code",
   "execution_count": 14,
   "metadata": {},
   "outputs": [
    {
     "data": {
      "text/html": [
       "<div>\n",
       "<style scoped>\n",
       "    .dataframe tbody tr th:only-of-type {\n",
       "        vertical-align: middle;\n",
       "    }\n",
       "\n",
       "    .dataframe tbody tr th {\n",
       "        vertical-align: top;\n",
       "    }\n",
       "\n",
       "    .dataframe thead th {\n",
       "        text-align: right;\n",
       "    }\n",
       "</style>\n",
       "<table border=\"1\" class=\"dataframe\">\n",
       "  <thead>\n",
       "    <tr style=\"text-align: right;\">\n",
       "      <th></th>\n",
       "      <th>appointment_id</th>\n",
       "      <th>gender</th>\n",
       "      <th>scheduled_day</th>\n",
       "      <th>appointment_day</th>\n",
       "      <th>age</th>\n",
       "      <th>neighbourhood</th>\n",
       "      <th>scholarship</th>\n",
       "      <th>hipertension</th>\n",
       "      <th>diabetes</th>\n",
       "      <th>alcoholism</th>\n",
       "      <th>handcap</th>\n",
       "      <th>sms_received</th>\n",
       "      <th>no_show</th>\n",
       "    </tr>\n",
       "    <tr>\n",
       "      <th>patient_id</th>\n",
       "      <th></th>\n",
       "      <th></th>\n",
       "      <th></th>\n",
       "      <th></th>\n",
       "      <th></th>\n",
       "      <th></th>\n",
       "      <th></th>\n",
       "      <th></th>\n",
       "      <th></th>\n",
       "      <th></th>\n",
       "      <th></th>\n",
       "      <th></th>\n",
       "      <th></th>\n",
       "    </tr>\n",
       "  </thead>\n",
       "  <tbody>\n",
       "    <tr>\n",
       "      <th>49461353944737</th>\n",
       "      <td>5139826</td>\n",
       "      <td>M</td>\n",
       "      <td>2015-12-08 13:30:21+00:00</td>\n",
       "      <td>2016-05-11 00:00:00+00:00</td>\n",
       "      <td>52</td>\n",
       "      <td>SANTA CECÍLIA</td>\n",
       "      <td>0</td>\n",
       "      <td>1</td>\n",
       "      <td>0</td>\n",
       "      <td>0</td>\n",
       "      <td>0</td>\n",
       "      <td>1</td>\n",
       "      <td>Yes</td>\n",
       "    </tr>\n",
       "    <tr>\n",
       "      <th>41734928742669</th>\n",
       "      <td>5140262</td>\n",
       "      <td>F</td>\n",
       "      <td>2015-12-08 14:19:05+00:00</td>\n",
       "      <td>2016-05-25 00:00:00+00:00</td>\n",
       "      <td>56</td>\n",
       "      <td>SANTA CECÍLIA</td>\n",
       "      <td>0</td>\n",
       "      <td>1</td>\n",
       "      <td>0</td>\n",
       "      <td>0</td>\n",
       "      <td>0</td>\n",
       "      <td>1</td>\n",
       "      <td>Yes</td>\n",
       "    </tr>\n",
       "    <tr>\n",
       "      <th>7415831328417</th>\n",
       "      <td>5140133</td>\n",
       "      <td>F</td>\n",
       "      <td>2015-12-08 14:05:35+00:00</td>\n",
       "      <td>2016-05-18 00:00:00+00:00</td>\n",
       "      <td>78</td>\n",
       "      <td>SÃO CRISTÓVÃO</td>\n",
       "      <td>0</td>\n",
       "      <td>0</td>\n",
       "      <td>0</td>\n",
       "      <td>0</td>\n",
       "      <td>0</td>\n",
       "      <td>0</td>\n",
       "      <td>Yes</td>\n",
       "    </tr>\n",
       "    <tr>\n",
       "      <th>178725979971382</th>\n",
       "      <td>5139864</td>\n",
       "      <td>M</td>\n",
       "      <td>2015-12-08 13:33:50+00:00</td>\n",
       "      <td>2016-05-11 00:00:00+00:00</td>\n",
       "      <td>83</td>\n",
       "      <td>SANTA CECÍLIA</td>\n",
       "      <td>0</td>\n",
       "      <td>1</td>\n",
       "      <td>0</td>\n",
       "      <td>0</td>\n",
       "      <td>1</td>\n",
       "      <td>1</td>\n",
       "      <td>Yes</td>\n",
       "    </tr>\n",
       "    <tr>\n",
       "      <th>72796647284433</th>\n",
       "      <td>5140115</td>\n",
       "      <td>M</td>\n",
       "      <td>2015-12-08 14:03:40+00:00</td>\n",
       "      <td>2016-05-18 00:00:00+00:00</td>\n",
       "      <td>68</td>\n",
       "      <td>MARUÍPE</td>\n",
       "      <td>0</td>\n",
       "      <td>1</td>\n",
       "      <td>0</td>\n",
       "      <td>0</td>\n",
       "      <td>0</td>\n",
       "      <td>0</td>\n",
       "      <td>Yes</td>\n",
       "    </tr>\n",
       "  </tbody>\n",
       "</table>\n",
       "</div>"
      ],
      "text/plain": [
       "                 appointment_id gender             scheduled_day  \\\n",
       "patient_id                                                         \n",
       "49461353944737          5139826      M 2015-12-08 13:30:21+00:00   \n",
       "41734928742669          5140262      F 2015-12-08 14:19:05+00:00   \n",
       "7415831328417           5140133      F 2015-12-08 14:05:35+00:00   \n",
       "178725979971382         5139864      M 2015-12-08 13:33:50+00:00   \n",
       "72796647284433          5140115      M 2015-12-08 14:03:40+00:00   \n",
       "\n",
       "                          appointment_day  age  neighbourhood  scholarship  \\\n",
       "patient_id                                                                   \n",
       "49461353944737  2016-05-11 00:00:00+00:00   52  SANTA CECÍLIA            0   \n",
       "41734928742669  2016-05-25 00:00:00+00:00   56  SANTA CECÍLIA            0   \n",
       "7415831328417   2016-05-18 00:00:00+00:00   78  SÃO CRISTÓVÃO            0   \n",
       "178725979971382 2016-05-11 00:00:00+00:00   83  SANTA CECÍLIA            0   \n",
       "72796647284433  2016-05-18 00:00:00+00:00   68        MARUÍPE            0   \n",
       "\n",
       "                 hipertension  diabetes  alcoholism  handcap  sms_received  \\\n",
       "patient_id                                                                   \n",
       "49461353944737              1         0           0        0             1   \n",
       "41734928742669              1         0           0        0             1   \n",
       "7415831328417               0         0           0        0             0   \n",
       "178725979971382             1         0           0        1             1   \n",
       "72796647284433              1         0           0        0             0   \n",
       "\n",
       "                no_show  \n",
       "patient_id               \n",
       "49461353944737      Yes  \n",
       "41734928742669      Yes  \n",
       "7415831328417       Yes  \n",
       "178725979971382     Yes  \n",
       "72796647284433      Yes  "
      ]
     },
     "execution_count": 14,
     "metadata": {},
     "output_type": "execute_result"
    }
   ],
   "source": [
    "#testing a query with the edited date variables\n",
    "df.query('scheduled_day >= \"2015-12-01 00:00:00+00:00\" and scheduled_day <= \"2016-01-01 00:00:00+00:00\" and no_show == \"Yes\" ').head(5)"
   ]
  },
  {
   "cell_type": "markdown",
   "metadata": {},
   "source": [
    "At this point we finished the data cleaning phase , we changed some data types so that it matches the values stored with it , we changed every column name to lower case and seperated each word with `_` so we can use it easly. \n",
    "\n",
    "In the next two cells we will save the edited dataset and take a last check of the data for making sure that every thing is ready to start answering our analysis questions."
   ]
  },
  {
   "cell_type": "code",
   "execution_count": 15,
   "metadata": {},
   "outputs": [
    {
     "data": {
      "text/html": [
       "<div>\n",
       "<style scoped>\n",
       "    .dataframe tbody tr th:only-of-type {\n",
       "        vertical-align: middle;\n",
       "    }\n",
       "\n",
       "    .dataframe tbody tr th {\n",
       "        vertical-align: top;\n",
       "    }\n",
       "\n",
       "    .dataframe thead th {\n",
       "        text-align: right;\n",
       "    }\n",
       "</style>\n",
       "<table border=\"1\" class=\"dataframe\">\n",
       "  <thead>\n",
       "    <tr style=\"text-align: right;\">\n",
       "      <th></th>\n",
       "      <th>appointment_id</th>\n",
       "      <th>gender</th>\n",
       "      <th>scheduled_day</th>\n",
       "      <th>appointment_day</th>\n",
       "      <th>age</th>\n",
       "      <th>neighbourhood</th>\n",
       "      <th>scholarship</th>\n",
       "      <th>hipertension</th>\n",
       "      <th>diabetes</th>\n",
       "      <th>alcoholism</th>\n",
       "      <th>handcap</th>\n",
       "      <th>sms_received</th>\n",
       "      <th>no_show</th>\n",
       "    </tr>\n",
       "    <tr>\n",
       "      <th>patient_id</th>\n",
       "      <th></th>\n",
       "      <th></th>\n",
       "      <th></th>\n",
       "      <th></th>\n",
       "      <th></th>\n",
       "      <th></th>\n",
       "      <th></th>\n",
       "      <th></th>\n",
       "      <th></th>\n",
       "      <th></th>\n",
       "      <th></th>\n",
       "      <th></th>\n",
       "      <th></th>\n",
       "    </tr>\n",
       "  </thead>\n",
       "  <tbody>\n",
       "    <tr>\n",
       "      <th>29872499824296</th>\n",
       "      <td>5642903</td>\n",
       "      <td>F</td>\n",
       "      <td>2016-04-29 18:38:08+00:00</td>\n",
       "      <td>2016-04-29 00:00:00+00:00</td>\n",
       "      <td>62</td>\n",
       "      <td>JARDIM DA PENHA</td>\n",
       "      <td>0</td>\n",
       "      <td>1</td>\n",
       "      <td>0</td>\n",
       "      <td>0</td>\n",
       "      <td>0</td>\n",
       "      <td>0</td>\n",
       "      <td>No</td>\n",
       "    </tr>\n",
       "    <tr>\n",
       "      <th>558997776694438</th>\n",
       "      <td>5642503</td>\n",
       "      <td>M</td>\n",
       "      <td>2016-04-29 16:08:27+00:00</td>\n",
       "      <td>2016-04-29 00:00:00+00:00</td>\n",
       "      <td>56</td>\n",
       "      <td>JARDIM DA PENHA</td>\n",
       "      <td>0</td>\n",
       "      <td>0</td>\n",
       "      <td>0</td>\n",
       "      <td>0</td>\n",
       "      <td>0</td>\n",
       "      <td>0</td>\n",
       "      <td>No</td>\n",
       "    </tr>\n",
       "    <tr>\n",
       "      <th>4262962299951</th>\n",
       "      <td>5642549</td>\n",
       "      <td>F</td>\n",
       "      <td>2016-04-29 16:19:04+00:00</td>\n",
       "      <td>2016-04-29 00:00:00+00:00</td>\n",
       "      <td>62</td>\n",
       "      <td>MATA DA PRAIA</td>\n",
       "      <td>0</td>\n",
       "      <td>0</td>\n",
       "      <td>0</td>\n",
       "      <td>0</td>\n",
       "      <td>0</td>\n",
       "      <td>0</td>\n",
       "      <td>No</td>\n",
       "    </tr>\n",
       "    <tr>\n",
       "      <th>867951213174</th>\n",
       "      <td>5642828</td>\n",
       "      <td>F</td>\n",
       "      <td>2016-04-29 17:29:31+00:00</td>\n",
       "      <td>2016-04-29 00:00:00+00:00</td>\n",
       "      <td>8</td>\n",
       "      <td>PONTAL DE CAMBURI</td>\n",
       "      <td>0</td>\n",
       "      <td>0</td>\n",
       "      <td>0</td>\n",
       "      <td>0</td>\n",
       "      <td>0</td>\n",
       "      <td>0</td>\n",
       "      <td>No</td>\n",
       "    </tr>\n",
       "    <tr>\n",
       "      <th>8841186448183</th>\n",
       "      <td>5642494</td>\n",
       "      <td>F</td>\n",
       "      <td>2016-04-29 16:07:23+00:00</td>\n",
       "      <td>2016-04-29 00:00:00+00:00</td>\n",
       "      <td>56</td>\n",
       "      <td>JARDIM DA PENHA</td>\n",
       "      <td>0</td>\n",
       "      <td>1</td>\n",
       "      <td>1</td>\n",
       "      <td>0</td>\n",
       "      <td>0</td>\n",
       "      <td>0</td>\n",
       "      <td>No</td>\n",
       "    </tr>\n",
       "  </tbody>\n",
       "</table>\n",
       "</div>"
      ],
      "text/plain": [
       "                 appointment_id gender             scheduled_day  \\\n",
       "patient_id                                                         \n",
       "29872499824296          5642903      F 2016-04-29 18:38:08+00:00   \n",
       "558997776694438         5642503      M 2016-04-29 16:08:27+00:00   \n",
       "4262962299951           5642549      F 2016-04-29 16:19:04+00:00   \n",
       "867951213174            5642828      F 2016-04-29 17:29:31+00:00   \n",
       "8841186448183           5642494      F 2016-04-29 16:07:23+00:00   \n",
       "\n",
       "                          appointment_day  age      neighbourhood  \\\n",
       "patient_id                                                          \n",
       "29872499824296  2016-04-29 00:00:00+00:00   62    JARDIM DA PENHA   \n",
       "558997776694438 2016-04-29 00:00:00+00:00   56    JARDIM DA PENHA   \n",
       "4262962299951   2016-04-29 00:00:00+00:00   62      MATA DA PRAIA   \n",
       "867951213174    2016-04-29 00:00:00+00:00    8  PONTAL DE CAMBURI   \n",
       "8841186448183   2016-04-29 00:00:00+00:00   56    JARDIM DA PENHA   \n",
       "\n",
       "                 scholarship  hipertension  diabetes  alcoholism  handcap  \\\n",
       "patient_id                                                                  \n",
       "29872499824296             0             1         0           0        0   \n",
       "558997776694438            0             0         0           0        0   \n",
       "4262962299951              0             0         0           0        0   \n",
       "867951213174               0             0         0           0        0   \n",
       "8841186448183              0             1         1           0        0   \n",
       "\n",
       "                 sms_received no_show  \n",
       "patient_id                             \n",
       "29872499824296              0      No  \n",
       "558997776694438             0      No  \n",
       "4262962299951               0      No  \n",
       "867951213174                0      No  \n",
       "8841186448183               0      No  "
      ]
     },
     "execution_count": 15,
     "metadata": {},
     "output_type": "execute_result"
    }
   ],
   "source": [
    "#print the data frame to take a look at the edited version.\n",
    "df.head()"
   ]
  },
  {
   "cell_type": "code",
   "execution_count": 16,
   "metadata": {},
   "outputs": [],
   "source": [
    "#Save the edited versoin,the file will be saved with the index column, beacuse the index is the patient id.\n",
    "df.to_csv('no_show_appointment_ev1.csv' , index=True)"
   ]
  },
  {
   "cell_type": "markdown",
   "metadata": {},
   "source": [
    "<a id='eda'></a>\n",
    "## Exploratory Data Analysis\n",
    "\n",
    "\n",
    "### Research Question : Which age group miss more appointments, and does the gender mater ?"
   ]
  },
  {
   "cell_type": "markdown",
   "metadata": {},
   "source": [
    "We will now explore the data to see if there any specific age group that miss more appointments, also we will seperate the groups by there gender and see if that will make any differences.\n",
    "\n",
    "First, we will by get the percentage of the missed appointments in general. "
   ]
  },
  {
   "cell_type": "code",
   "execution_count": 17,
   "metadata": {},
   "outputs": [],
   "source": [
    "#Seperate the dataframe into two dataframes.\n",
    "noshow = df.query('no_show == \"Yes\"') #Missed appointments\n",
    "showed = df.query('no_show == \"No\"')  #Showed at the appointments"
   ]
  },
  {
   "cell_type": "code",
   "execution_count": 18,
   "metadata": {},
   "outputs": [
    {
     "data": {
      "image/png": "[encoded data removed]",
      "text/plain": [
       "<Figure size 576x576 with 1 Axes>"
      ]
     },
     "metadata": {},
     "output_type": "display_data"
    }
   ],
   "source": [
    "#Plot a piechart of the two dataframes\n",
    "plt.figure(figsize=(8,8))\n",
    "plt.pie([noshow.shape[0],showed.shape[0]] , labels=['Missed','Didnt miss'] , autopct='%1.1f%%')\n",
    "plt.title('Missed appointments' , fontsize=20)\n",
    "plt.show();"
   ]
  },
  {
   "cell_type": "markdown",
   "metadata": {},
   "source": [
    "As we can see from the above piechart 20.2% of the appintments are missed, lets explore the missed appointments in more depth to see which gender miss more appointments. "
   ]
  },
  {
   "cell_type": "code",
   "execution_count": 19,
   "metadata": {},
   "outputs": [],
   "source": [
    "#Seperate the group into male and female groups.\n",
    "noshow_m=noshow.query('gender == \"M\"')\n",
    "noshow_f=noshow.query('gender == \"F\"')"
   ]
  },
  {
   "cell_type": "code",
   "execution_count": 20,
   "metadata": {},
   "outputs": [
    {
     "data": {
      "image/png": "[encoded data removed]",
      "text/plain": [
       "<Figure size 576x576 with 1 Axes>"
      ]
     },
     "metadata": {},
     "output_type": "display_data"
    }
   ],
   "source": [
    "#Plot the piechart for the two genders\n",
    "plt.figure(figsize=(8,8))\n",
    "plt.pie([noshow_m.shape[0],noshow_f.shape[0]] , labels=['Males','Females'] , autopct='%1.1f%%' , colors=['deepskyblue','pink'])\n",
    "plt.title('Missed appointments for each gender' , fontsize=20)\n",
    "plt.show();"
   ]
  },
  {
   "cell_type": "markdown",
   "metadata": {},
   "source": [
    "From the above piechart , we can see that that two thirds of the missed appointments are female's , where the last third is for male's.\n",
    "\n",
    "Now lets seperate the whole data and the missed appointments data into three age groups:\n",
    "- Elders with ages 65 years old or over \n",
    "- Adults with ages from 18 to 64 years old\n",
    "- Young with ages less that 18 years old."
   ]
  },
  {
   "cell_type": "code",
   "execution_count": 21,
   "metadata": {},
   "outputs": [
    {
     "data": {
      "text/plain": [
       "(14402, 68745, 27380)"
      ]
     },
     "execution_count": 21,
     "metadata": {},
     "output_type": "execute_result"
    }
   ],
   "source": [
    "df_old= df.query('age >= 65')\n",
    "df_adlt=df.query('age >= 18 and age < 65')\n",
    "df_yng=df.query('age < 18')\n",
    "\n",
    "df_old.shape[0] , df_adlt.shape[0] , df_yng.shape[0] #Sizes"
   ]
  },
  {
   "cell_type": "code",
   "execution_count": 22,
   "metadata": {},
   "outputs": [
    {
     "data": {
      "text/plain": [
       "(2233, 14089, 5997)"
      ]
     },
     "execution_count": 22,
     "metadata": {},
     "output_type": "execute_result"
    }
   ],
   "source": [
    "noshow_old= noshow.query('age >= 65')\n",
    "noshow_adlt= noshow.query('age >= 18 and age < 65')\n",
    "noshow_yng= noshow.query('age < 18')\n",
    "\n",
    "noshow_old.shape[0] ,noshow_adlt.shape[0], noshow_yng.shape[0] #Sizes"
   ]
  },
  {
   "cell_type": "markdown",
   "metadata": {},
   "source": [
    "Now we will calculate the percentages of the missed appointments of each age group."
   ]
  },
  {
   "cell_type": "code",
   "execution_count": 23,
   "metadata": {},
   "outputs": [
    {
     "data": {
      "text/plain": [
       "(15.504791001249826, 20.494581424103572, 21.902848794740688)"
      ]
     },
     "execution_count": 23,
     "metadata": {},
     "output_type": "execute_result"
    }
   ],
   "source": [
    "perc_yes_old = ( noshow_old.shape[0] / df_old.shape[0] ) * 100\n",
    "perc_yes_adlt= ( noshow_adlt.shape[0] / df_adlt.shape[0] ) * 100\n",
    "perc_yes_yng = ( noshow_yng.shape[0] / df_yng.shape[0] ) * 100\n",
    "\n",
    "perc_yes_old,perc_yes_adlt,perc_yes_yng"
   ]
  },
  {
   "cell_type": "markdown",
   "metadata": {},
   "source": [
    "We will draw two charts for the gathered data, first one will be a bar chart representing the percentage of missed appointments of the whole appointments for each age group, and the second one will be piechart representing the percentage of the missed appointments for each age group."
   ]
  },
  {
   "cell_type": "code",
   "execution_count": 24,
   "metadata": {},
   "outputs": [
    {
     "data": {
      "image/png": "[encoded data removed]",
      "text/plain": [
       "<Figure size 576x576 with 1 Axes>"
      ]
     },
     "metadata": {
      "needs_background": "light"
     },
     "output_type": "display_data"
    }
   ],
   "source": [
    "#Bar chart\n",
    "plt.figure(figsize=(8,8))\n",
    "plt.bar([1,2,3] , [perc_yes_old,perc_yes_adlt,perc_yes_yng] , tick_label=['Old', 'Adult' , 'Young'] , color=['r','deepskyblue','y'])\n",
    "plt.title('Percetage of missed appointments for each age group',fontsize=20)\n",
    "plt.ylabel('Percentage' , fontsize=16)\n",
    "plt.xlabel('Age group', fontsize=16)\n",
    "plt.yticks(fontsize=13)\n",
    "plt.xticks(fontsize=13)\n",
    "plt.show();"
   ]
  },
  {
   "cell_type": "code",
   "execution_count": 25,
   "metadata": {},
   "outputs": [
    {
     "data": {
      "image/png": "[encoded data removed]",
      "text/plain": [
       "<Figure size 576x576 with 1 Axes>"
      ]
     },
     "metadata": {},
     "output_type": "display_data"
    }
   ],
   "source": [
    "#Piechart\n",
    "plt.figure(figsize=(8,8))\n",
    "plt.pie([perc_yes_old,perc_yes_adlt,perc_yes_yng],labels=['Old' , 'Adult' , 'Young'] , autopct='%1.1f%%' , colors=['r','deepskyblue','y'])\n",
    "plt.title('Missed appointments with age groups' , fontsize=20)\n",
    "plt.show();"
   ]
  },
  {
   "cell_type": "markdown",
   "metadata": {},
   "source": [
    "Lastly, we will seperate missed appointments data for males and females ,and will caculate the percentage of the missed appointments for each gender age groups.  "
   ]
  },
  {
   "cell_type": "code",
   "execution_count": 26,
   "metadata": {},
   "outputs": [
    {
     "data": {
      "text/plain": [
       "(716, 4074, 2935, 1517, 10015, 3062)"
      ]
     },
     "execution_count": 26,
     "metadata": {},
     "output_type": "execute_result"
    }
   ],
   "source": [
    "#Seperate noshow_age into seperate dataframes for males and females.\n",
    "\n",
    "#Males\n",
    "noshow_old_m= noshow_old.query('gender == \"M\"').shape[0]\n",
    "noshow_adlt_m= noshow_adlt.query('gender == \"M\"').shape[0]\n",
    "noshow_yng_m= noshow_yng.query('gender == \"M\"').shape[0]\n",
    "#Females\n",
    "noshow_old_f= noshow_old.query('gender == \"F\"').shape[0]\n",
    "noshow_adlt_f= noshow_adlt.query('gender == \"F\"').shape[0]\n",
    "noshow_yng_f= noshow_yng.query('gender == \"F\"').shape[0]\n",
    "\n",
    "noshow_old_m ,noshow_adlt_m, noshow_yng_m , noshow_old_f , noshow_adlt_f, noshow_yng_f #Sizes"
   ]
  },
  {
   "cell_type": "code",
   "execution_count": 27,
   "metadata": {},
   "outputs": [],
   "source": [
    "#Calculate the percentage for each dataframe\n",
    "\n",
    "#Males\n",
    "perc_yes_old_m = ( noshow_old_m / df_old.shape[0] ) * 100\n",
    "perc_yes_adlt_m= ( noshow_adlt_m / df_adlt.shape[0] ) * 100\n",
    "perc_yes_yng_m = ( noshow_yng_m / df_yng.shape[0] ) * 100\n",
    "#Females\n",
    "perc_yes_old_f = ( noshow_old_f / df_old.shape[0] ) * 100\n",
    "perc_yes_adlt_f= ( noshow_adlt_f / df_adlt.shape[0] ) * 100\n",
    "perc_yes_yng_f = ( noshow_yng_f / df_yng.shape[0] ) * 100"
   ]
  },
  {
   "cell_type": "markdown",
   "metadata": {},
   "source": [
    "For the gathered data we will draw a barchart combining the data for males and females for each age group.  "
   ]
  },
  {
   "cell_type": "code",
   "execution_count": 28,
   "metadata": {},
   "outputs": [
    {
     "data": {
      "image/png": "[encoded data removed]",
      "text/plain": [
       "<Figure size 576x576 with 1 Axes>"
      ]
     },
     "metadata": {
      "needs_background": "light"
     },
     "output_type": "display_data"
    }
   ],
   "source": [
    "values = [perc_yes_old_m,perc_yes_adlt_m,perc_yes_yng_m,perc_yes_old_f,perc_yes_adlt_f,perc_yes_yng_f]\n",
    "ind=np.arange(3)\n",
    "plt.figure(figsize=(8,8))\n",
    "male_bars = plt.bar(ind , values[:3] , 0.35 , color='deepskyblue' , label='Males')\n",
    "female_bars = plt.bar(ind + 0.35 , values[3:] , 0.35 , color='pink' , label='Females')\n",
    "plt.title('Percetage of missed appointments for each gender age group' , fontsize=20)\n",
    "plt.ylabel('Percentage' , fontsize=15)\n",
    "plt.xlabel('Age group' , fontsize=15)\n",
    "plt.xticks( ind + 0.35 /2 , ['Old' , 'Adult' , 'Young'] , fontsize= 13)\n",
    "plt.yticks(fontsize=13)\n",
    "\n",
    "plt.legend();"
   ]
  },
  {
   "cell_type": "markdown",
   "metadata": {},
   "source": [
    "<a id='conclusions'></a>\n",
    "## Conclusions\n"
   ]
  },
  {
   "cell_type": "markdown",
   "metadata": {
    "collapsed": true
   },
   "source": [
    "In this project we have explored and analysed data for medical appointments ,and we were focused on answering the following questoin \"__Which age group miss more appointments , and does the gender mater ?__\", we concluded that 20% of the whole appointments are being missed ,with 65% of the missed appointments were female's and 35% were male's appointments. We also seperated the data into three age groups Elders , Adults and Youngs , and concluded that the most appointments are missed by youngs followed by adults then elders , we explored the age groups in more depth and seperated them with genders, we concluded that the most missed appointments percentage were adult females' percentage and the least were old males' percentage."
   ]
  }
 ],
 "metadata": {
  "kernelspec": {
   "display_name": "Python [conda env:project2]",
   "language": "python",
   "name": "conda-env-project2-py"
  },
  "language_info": {
   "codemirror_mode": {
    "name": "ipython",
    "version": 3
   },
   "file_extension": ".py",
   "mimetype": "text/x-python",
   "name": "python",
   "nbconvert_exporter": "python",
   "pygments_lexer": "ipython3",
   "version": "3.8.2"
  }
 },
 "nbformat": 4,
 "nbformat_minor": 2
}
